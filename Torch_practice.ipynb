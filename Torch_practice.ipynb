{
 "cells": [
  {
   "cell_type": "code",
   "execution_count": 4,
   "metadata": {},
   "outputs": [],
   "source": [
    "import numpy as np"
   ]
  },
  {
   "cell_type": "code",
   "execution_count": 11,
   "metadata": {},
   "outputs": [
    {
     "name": "stdout",
     "output_type": "stream",
     "text": [
      "361.72s - pydevd: Sending message related to process being replaced timed-out after 5 seconds\n",
      "zsh:1: command not found: pip\n"
     ]
    }
   ],
   "source": [
    "!pip install torch\n"
   ]
  },
  {
   "cell_type": "code",
   "execution_count": 17,
   "metadata": {},
   "outputs": [],
   "source": [
    "import Neural"
   ]
  },
  {
   "cell_type": "code",
   "execution_count": 14,
   "metadata": {},
   "outputs": [
    {
     "name": "stdout",
     "output_type": "stream",
     "text": [
      "494.69s - pydevd: Sending message related to process being replaced timed-out after 5 seconds\n",
      "  % Total    % Received % Xferd  Average Speed   Time    Time     Time  Current\n",
      "                                 Dload  Upload   Total   Spent    Left  Speed\n",
      "100 2574k  100 2574k    0     0  6677k      0 --:--:-- --:--:-- --:--:-- 6738k\n",
      "500.26s - pydevd: Sending message related to process being replaced timed-out after 5 seconds\n",
      "zsh:1: command not found: python\n"
     ]
    }
   ],
   "source": [
    "!curl https://bootstrap.pypa.io/get-pip.py -o get-pip.py\n",
    "!python get-pip.py\n"
   ]
  },
  {
   "cell_type": "code",
   "execution_count": 20,
   "metadata": {},
   "outputs": [
    {
     "ename": "ModuleNotFoundError",
     "evalue": "No module named 'torch.utils'; 'torch' is not a package",
     "output_type": "error",
     "traceback": [
      "\u001b[0;31m---------------------------------------------------------------------------\u001b[0m",
      "\u001b[0;31mModuleNotFoundError\u001b[0m                       Traceback (most recent call last)",
      "Cell \u001b[0;32mIn[20], line 2\u001b[0m\n\u001b[1;32m      1\u001b[0m \u001b[38;5;28;01mimport\u001b[39;00m \u001b[38;5;21;01mtorch\u001b[39;00m\n\u001b[0;32m----> 2\u001b[0m \u001b[38;5;28;01mfrom\u001b[39;00m \u001b[38;5;21;01mtorch\u001b[39;00m\u001b[38;5;21;01m.\u001b[39;00m\u001b[38;5;21;01mutils\u001b[39;00m\u001b[38;5;21;01m.\u001b[39;00m\u001b[38;5;21;01mdata\u001b[39;00m \u001b[38;5;28;01mimport\u001b[39;00m Dataset, DataLoader, random_split\n\u001b[1;32m      3\u001b[0m \u001b[38;5;28;01mimport\u001b[39;00m \u001b[38;5;21;01mpandas\u001b[39;00m \u001b[38;5;28;01mas\u001b[39;00m \u001b[38;5;21;01mpd\u001b[39;00m\n\u001b[1;32m      5\u001b[0m \u001b[38;5;66;03m# Sample data\u001b[39;00m\n",
      "\u001b[0;31mModuleNotFoundError\u001b[0m: No module named 'torch.utils'; 'torch' is not a package"
     ]
    }
   ],
   "source": [
    "import Neural\n",
    "from torch.utils.data import Dataset, DataLoader, random_split\n",
    "import pandas as pd\n",
    "\n",
    "# Sample data\n",
    "data = {\n",
    "    'Unnamed: 0': [0, 1],\n",
    "    'ID': ['f9dcbd09-32ac-41d9-a0b1-fdb2793378cf', '1b4736a7-e73e-45bc-a9b5-d3e7fcf652fd'],\n",
    "    'Category': ['Treehouses', 'Treehouses'],\n",
    "    'Title': ['Red Kite Tree Tent - Ynys Affalon', 'Az Alom Cabin - Treehouse Tree to Nature Cabin'],\n",
    "    'Description': [\"<class 'str'>\", \"<class 'str'>\"],\n",
    "    'Amenities': [\"['What this place offers', 'Bathroom', 'Shampoo', 'Bedroom and laundry', 'Essentials', 'Towels, bed sheets, soap and toilet paper', 'Heating and cooling', 'Indoor fireplace', 'Heating', 'Home safety', 'Smoke alarm', 'Carbon monoxide alarm', 'Fire extinguisher', 'First aid kit', 'Kitchen and dining', 'Kitchen', 'Space where guests can cook their own meals', 'Cooking basics', 'Pots and pans, oil, salt and pepper', 'Location features', 'Private entrance', 'Separate street or building entrance', 'Parking and facilities', 'Free parking on premises', 'Services', 'Long-term stays allowed', 'Allow stays of 28 days or more', 'Not included', 'Unavailable: Security cameras on property\\nSecurity cameras on property', 'Unavailable: Wifi\\nWifi', 'Unavailable: TV\\nTV', 'Unavailable: Washing machine\\nWashing machine', 'Unavailable: Air conditioning\\nAir conditioning', 'Unavailable: Hair dryer\\nHair dryer']\",\n",
    "                  \"['What this place offers', 'Bedroom and laundry', 'Essentials', 'Towels, bed sheets, soap and toilet paper', 'Heating and cooling', 'Heating', 'Home safety', 'Smoke alarm', 'Location features', 'Private entrance', 'Separate street or building entrance', 'Outdoor', 'Private patio or balcony', 'Services', 'Pets allowed', 'Assistance animals are always allowed', 'Host greets you', 'Long-term stays allowed', 'Allow stays of 28 days or more', 'Not included', 'Unavailable: Security cameras on property\\nSecurity cameras on property', 'Unavailable: Kitchen\\nKitchen', 'Unavailable: Wifi\\nWifi', 'Unavailable: TV\\nTV', 'Unavailable: Washing machine\\nWashing machine', 'Unavailable: Air conditioning\\nAir conditioning', 'Unavailable: Hair dryer\\nHair dryer', 'Unavailable: Carbon monoxide alarm\\nCarbon monoxide alarm', 'This place may not have a carbon monoxide detector. Contact the host with any questions.', 'Unavailable: Shampoo\\nShampoo']\"],\n",
    "    'Location': ['Llandrindod Wells United Kingdom', 'Guyonvelle Grand Est France'],\n",
    "    'guests': ['2', '3'],\n",
    "    'beds': [1.0, 3.0],\n",
    "    'bathrooms': [1.0, 0.0],\n",
    "    'Price_Night': [105, 92],\n",
    "    'Cleanliness_rating': [4.6, 4.3],\n",
    "    'Accuracy_rating': [4.7, 4.7],\n",
    "    'Communication_rating': [4.3, 4.6],\n",
    "    'Location_rating': [5.0, 4.9],\n",
    "    'Check-in_rating': [4.3, 4.7],\n",
    "    'Value_rating': [4.3, 4.5],\n",
    "    'amenities_count': [13.0, 8.0],\n",
    "    'bedrooms': ['1', '1']\n",
    "}\n",
    "\n",
    "# Convert the data to a DataFrame\n",
    "df = pd.DataFrame(data)\n",
    "\n",
    "# Define numerical features and label\n",
    "numerical_features = ['guests', 'beds', 'bathrooms', 'Cleanliness_rating', 'Accuracy_rating',\n",
    "                      'Communication_rating', 'Location_rating', 'Check-in_rating', 'Value_rating', 'amenities_count']\n",
    "label = 'Price_Night'\n",
    "\n",
    "class AirbnbNightlyPriceRegressionDataset(Dataset):\n",
    "    def __init__(self, dataframe):\n",
    "        self.dataframe = dataframe\n",
    "        self.features = dataframe[numerical_features].astype(float).values\n",
    "        self.labels = dataframe[label].values.astype(float)\n",
    "\n",
    "    def __len__(self):\n",
    "        return len(self.dataframe)\n",
    "\n",
    "    def __getitem__(self, idx):\n",
    "        features = Neural.tensor(self.features[idx], dtype=Neural.float32)\n",
    "        label = Neural.tensor(self.labels[idx], dtype=Neural.float32)\n",
    "        return features, label\n",
    "\n",
    "# Create the dataset\n",
    "dataset = AirbnbNightlyPriceRegressionDataset(df)\n",
    "\n",
    "# Split the dataset into train and test sets\n",
    "train_size = int(0.8 * len(dataset))\n",
    "test_size = len(dataset) - train_size\n",
    "train_dataset, test_dataset = random_split(dataset, [train_size, test_size])\n",
    "\n",
    "# Further split the train set into train and validation sets\n",
    "train_size = int(0.8 * len(train_dataset))\n",
    "val_size = len(train_dataset) - train_size\n",
    "train_dataset, val_dataset = random_split(train_dataset, [train_size, val_size])\n",
    "\n",
    "# Create data loaders\n",
    "train_loader = DataLoader(train_dataset, batch_size=2, shuffle=True)\n",
    "val_loader = DataLoader(val_dataset, batch_size=2, shuffle=True)\n",
    "test_loader = DataLoader(test_dataset, batch_size=2, shuffle=False)\n",
    "\n",
    "# Test the data loader\n",
    "for features, label in train_loader:\n",
    "    print(features, label)\n",
    "    break\n"
   ]
  },
  {
   "cell_type": "code",
   "execution_count": 23,
   "metadata": {},
   "outputs": [],
   "source": [
    "import Neural"
   ]
  },
  {
   "cell_type": "code",
   "execution_count": 25,
   "metadata": {},
   "outputs": [
    {
     "ename": "AttributeError",
     "evalue": "module 'torch' has no attribute '__version__'",
     "output_type": "error",
     "traceback": [
      "\u001b[0;31m---------------------------------------------------------------------------\u001b[0m",
      "\u001b[0;31mAttributeError\u001b[0m                            Traceback (most recent call last)",
      "Cell \u001b[0;32mIn[25], line 2\u001b[0m\n\u001b[1;32m      1\u001b[0m \u001b[38;5;28;01mimport\u001b[39;00m \u001b[38;5;21;01mtorch\u001b[39;00m\n\u001b[0;32m----> 2\u001b[0m \u001b[38;5;28mprint\u001b[39m(\u001b[43mtorch\u001b[49m\u001b[38;5;241;43m.\u001b[39;49m\u001b[43m__version__\u001b[49m)\n",
      "\u001b[0;31mAttributeError\u001b[0m: module 'torch' has no attribute '__version__'"
     ]
    }
   ],
   "source": [
    "import Neural\n",
    "print(Neural.__version__)\n"
   ]
  },
  {
   "cell_type": "code",
   "execution_count": 30,
   "metadata": {},
   "outputs": [
    {
     "ename": "ModuleNotFoundError",
     "evalue": "No module named 'torch.utils'; 'torch' is not a package",
     "output_type": "error",
     "traceback": [
      "\u001b[0;31m---------------------------------------------------------------------------\u001b[0m",
      "\u001b[0;31mModuleNotFoundError\u001b[0m                       Traceback (most recent call last)",
      "Cell \u001b[0;32mIn[30], line 2\u001b[0m\n\u001b[1;32m      1\u001b[0m \u001b[38;5;28;01mimport\u001b[39;00m \u001b[38;5;21;01mtorch\u001b[39;00m\n\u001b[0;32m----> 2\u001b[0m \u001b[38;5;28;01mfrom\u001b[39;00m \u001b[38;5;21;01mtorch\u001b[39;00m\u001b[38;5;21;01m.\u001b[39;00m\u001b[38;5;21;01mutils\u001b[39;00m\u001b[38;5;21;01m.\u001b[39;00m\u001b[38;5;21;01mdata\u001b[39;00m \u001b[38;5;28;01mimport\u001b[39;00m Dataset, DataLoader, random_split\n\u001b[1;32m      3\u001b[0m \u001b[38;5;28;01mimport\u001b[39;00m \u001b[38;5;21;01mpandas\u001b[39;00m \u001b[38;5;28;01mas\u001b[39;00m \u001b[38;5;21;01mpd\u001b[39;00m\n\u001b[1;32m      5\u001b[0m \u001b[38;5;66;03m# Sample data\u001b[39;00m\n",
      "\u001b[0;31mModuleNotFoundError\u001b[0m: No module named 'torch.utils'; 'torch' is not a package"
     ]
    }
   ],
   "source": [
    "import torch \n",
    "from torch.utils.data import Dataset, DataLoader, random_split\n",
    "import pandas as pd\n",
    "\n",
    "# Sample data\n",
    "data = pd.read_csv(\"AirbnbData/Processed_Data/clean_tabular_data/clean_tabular_data.csv\")\n",
    "\n",
    "# Convert the data to a DataFrame\n",
    "\n",
    "# Define numerical features and label\n",
    "numerical_features = ['guests', 'beds', 'bathrooms', 'Cleanliness_rating', 'Accuracy_rating',\n",
    "                      'Communication_rating', 'Location_rating', 'Check-in_rating', 'Value_rating', 'amenities_count']\n",
    "label = 'Price_Night'\n",
    "\n",
    "class AirbnbNightlyPriceRegressionDataset(Dataset):\n",
    "    def __init__(self, dataframe):\n",
    "        self.dataframe = dataframe\n",
    "        self.features = dataframe[numerical_features].astype(float).values\n",
    "        self.labels = dataframe[label].values.astype(float)\n",
    "\n",
    "    def __len__(self):\n",
    "        return len(self.dataframe)\n",
    "\n",
    "    def __getitem__(self, idx):\n",
    "        features = torch.tensor(self.features[idx], dtype=torch.float32)\n",
    "        label = torch.tensor(self.labels[idx], dtype=torch.float32)\n",
    "        return features, label\n",
    "\n",
    "# Create the dataset\n",
    "dataset = AirbnbNightlyPriceRegressionDataset(data)\n",
    "\n",
    "# Split the dataset into training (80%) and test (20%)\n",
    "train_size = int(0.8 * len(dataset))\n",
    "test_size = len(dataset) - train_size\n",
    "train_dataset, test_dataset = random_split(dataset, [train_size, test_size])\n",
    "\n",
    "# Split the training dataset into training (80%) and validation (20%)\n",
    "train_size = int(0.8 * len(train_dataset))\n",
    "val_size = len(train_dataset) - train_size\n",
    "train_dataset, val_dataset = random_split(train_dataset, [train_size, val_size])\n",
    "\n",
    "# Create DataLoaders\n",
    "train_loader = DataLoader(train_dataset, batch_size=4, shuffle=True)\n",
    "val_loader = DataLoader(val_dataset, batch_size=4, shuffle=True)\n",
    "test_loader = DataLoader(test_dataset, batch_size=4, shuffle=True)\n",
    "\n",
    "# Verify the data loaders\n",
    "for features, label in train_loader:\n",
    "    print(features, label)\n",
    "    break\n"
   ]
  },
  {
   "cell_type": "code",
   "execution_count": 28,
   "metadata": {},
   "outputs": [],
   "source": [
    "import Neural"
   ]
  },
  {
   "cell_type": "code",
   "execution_count": 37,
   "metadata": {},
   "outputs": [
    {
     "ename": "NameError",
     "evalue": "name 'Neural' is not defined",
     "output_type": "error",
     "traceback": [
      "\u001b[0;31m---------------------------------------------------------------------------\u001b[0m",
      "\u001b[0;31mNameError\u001b[0m                                 Traceback (most recent call last)",
      "Cell \u001b[0;32mIn[37], line 1\u001b[0m\n\u001b[0;32m----> 1\u001b[0m \u001b[43mNeural\u001b[49m\u001b[38;5;241m.\u001b[39mtensor([\u001b[38;5;241m1\u001b[39m,\u001b[38;5;241m2\u001b[39m,\u001b[38;5;241m3\u001b[39m])\n",
      "\u001b[0;31mNameError\u001b[0m: name 'Neural' is not defined"
     ]
    }
   ],
   "source": [
    "Neural.tensor([1,2,3])"
   ]
  },
  {
   "cell_type": "code",
   "execution_count": 35,
   "metadata": {},
   "outputs": [],
   "source": [
    "import torch"
   ]
  },
  {
   "cell_type": "code",
   "execution_count": 36,
   "metadata": {},
   "outputs": [
    {
     "ename": "AttributeError",
     "evalue": "module 'torch' has no attribute '__version__'",
     "output_type": "error",
     "traceback": [
      "\u001b[0;31m---------------------------------------------------------------------------\u001b[0m",
      "\u001b[0;31mAttributeError\u001b[0m                            Traceback (most recent call last)",
      "Cell \u001b[0;32mIn[36], line 1\u001b[0m\n\u001b[0;32m----> 1\u001b[0m \u001b[38;5;28mprint\u001b[39m(\u001b[43mtorch\u001b[49m\u001b[38;5;241;43m.\u001b[39;49m\u001b[43m__version__\u001b[49m)\n",
      "\u001b[0;31mAttributeError\u001b[0m: module 'torch' has no attribute '__version__'"
     ]
    }
   ],
   "source": [
    "print(torch.__version__)"
   ]
  },
  {
   "cell_type": "code",
   "execution_count": null,
   "metadata": {},
   "outputs": [],
   "source": []
  }
 ],
 "metadata": {
  "kernelspec": {
   "display_name": "Python 3",
   "language": "python",
   "name": "python3"
  },
  "language_info": {
   "codemirror_mode": {
    "name": "ipython",
    "version": 3
   },
   "file_extension": ".py",
   "mimetype": "text/x-python",
   "name": "python",
   "nbconvert_exporter": "python",
   "pygments_lexer": "ipython3",
   "version": "3.12.1"
  }
 },
 "nbformat": 4,
 "nbformat_minor": 2
}
